{
 "cells": [
  {
   "cell_type": "markdown",
   "metadata": {},
   "source": [
    "![](https://img.kaikeba.com/web/kkb_index/img_index_logo.png)"
   ]
  },
  {
   "cell_type": "markdown",
   "metadata": {},
   "source": [
    "# 基础课第一部分（python）第二次作业  \n",
    "\n",
    "同学们～大家好！又到了做作业的时间了！上次的作业有 print使用 和 安装Python Pycharm Anaconda 的教程，请确认安装软件好了～\n",
    "本次作业有三个题目：\n",
    "- 1. 实现一周的记账功能\n",
    "- 2. 实现ATM机功能\n",
    "- 3. 词汇表生成及统计\n",
    "\n",
    "## 1. 实现一周的记账功能\n",
    "\n",
    "首先记录输入的7天的收入，然后记录输入的7天的支出。  \n",
    "然后打印出以下内容：\n",
    "- 7天的收入(list)\n",
    "- 7天的支出(list)\n",
    "- 每天的结余(dict)\n",
    "- 最终的结余"
   ]
  },
  {
   "cell_type": "code",
   "execution_count": 5,
   "metadata": {},
   "outputs": [
    {
     "name": "stdout",
     "output_type": "stream",
     "text": [
      "输入第1天收入\n"
     ]
    },
    {
     "name": "stdin",
     "output_type": "stream",
     "text": [
      " 1\n"
     ]
    },
    {
     "name": "stdout",
     "output_type": "stream",
     "text": [
      "输入第2天收入\n"
     ]
    },
    {
     "name": "stdin",
     "output_type": "stream",
     "text": [
      " 3\n"
     ]
    },
    {
     "name": "stdout",
     "output_type": "stream",
     "text": [
      "输入第3天收入\n"
     ]
    },
    {
     "name": "stdin",
     "output_type": "stream",
     "text": [
      " 5\n"
     ]
    },
    {
     "name": "stdout",
     "output_type": "stream",
     "text": [
      "输入第4天收入\n"
     ]
    },
    {
     "name": "stdin",
     "output_type": "stream",
     "text": [
      " 7\n"
     ]
    },
    {
     "name": "stdout",
     "output_type": "stream",
     "text": [
      "输入第5天收入\n"
     ]
    },
    {
     "name": "stdin",
     "output_type": "stream",
     "text": [
      " 9\n"
     ]
    },
    {
     "name": "stdout",
     "output_type": "stream",
     "text": [
      "输入第6天收入\n"
     ]
    },
    {
     "name": "stdin",
     "output_type": "stream",
     "text": [
      " 2\n"
     ]
    },
    {
     "name": "stdout",
     "output_type": "stream",
     "text": [
      "输入第7天收入\n"
     ]
    },
    {
     "name": "stdin",
     "output_type": "stream",
     "text": [
      " 4\n"
     ]
    },
    {
     "name": "stdout",
     "output_type": "stream",
     "text": [
      "输入第1天支出\n"
     ]
    },
    {
     "name": "stdin",
     "output_type": "stream",
     "text": [
      " 1\n"
     ]
    },
    {
     "name": "stdout",
     "output_type": "stream",
     "text": [
      "输入第2天支出\n"
     ]
    },
    {
     "name": "stdin",
     "output_type": "stream",
     "text": [
      " 2\n"
     ]
    },
    {
     "name": "stdout",
     "output_type": "stream",
     "text": [
      "输入第3天支出\n"
     ]
    },
    {
     "name": "stdin",
     "output_type": "stream",
     "text": [
      " 3\n"
     ]
    },
    {
     "name": "stdout",
     "output_type": "stream",
     "text": [
      "输入第4天支出\n"
     ]
    },
    {
     "name": "stdin",
     "output_type": "stream",
     "text": [
      " 4\n"
     ]
    },
    {
     "name": "stdout",
     "output_type": "stream",
     "text": [
      "输入第5天支出\n"
     ]
    },
    {
     "name": "stdin",
     "output_type": "stream",
     "text": [
      " 5\n"
     ]
    },
    {
     "name": "stdout",
     "output_type": "stream",
     "text": [
      "输入第6天支出\n"
     ]
    },
    {
     "name": "stdin",
     "output_type": "stream",
     "text": [
      " 6\n"
     ]
    },
    {
     "name": "stdout",
     "output_type": "stream",
     "text": [
      "输入第7天支出\n"
     ]
    },
    {
     "name": "stdin",
     "output_type": "stream",
     "text": [
      " 7\n"
     ]
    },
    {
     "name": "stdout",
     "output_type": "stream",
     "text": [
      "第1天的结余0\n",
      "第2天的结余1\n",
      "第3天的结余2\n",
      "第4天的结余3\n",
      "第5天的结余4\n",
      "第6天的结余-4\n",
      "第7天的结余-3\n"
     ]
    }
   ],
   "source": [
    "# 1实现一周记账功能\n",
    "income = []#收入\n",
    "cost = []#支出\n",
    "balance = {}#结余\n",
    "for i in range(7):\n",
    "    print(\"输入第{0}天收入\".format(i+1))\n",
    "    income.append(int(input()))\n",
    "\n",
    "for i in range(7):\n",
    "    print(\"输入第{0}天支出\".format(i+1))\n",
    "    cost.append(int(input()))\n",
    "    \n",
    "for i in range(7):\n",
    "    balance[i] = income[i]-cost[i]\n",
    "    print(\"第{0}天的结余{1}\".format(i+1,balance[i]))\n",
    "\n",
    "print(\"最终的结余{0}\".format(sum(balance.values())))"
   ]
  },
  {
   "cell_type": "code",
   "execution_count": 10,
   "metadata": {},
   "outputs": [
    {
     "name": "stdout",
     "output_type": "stream",
     "text": [
      "dict_values([0, 1, 2, 3, 4, -4, -3])\n",
      "最终的结余3\n"
     ]
    }
   ],
   "source": []
  },
  {
   "cell_type": "markdown",
   "metadata": {},
   "source": [
    "## 2. 实现ATM机器\n",
    "- 查询余额\n",
    "- 存款\n",
    "- 取款\n",
    "- 退出"
   ]
  },
  {
   "cell_type": "code",
   "execution_count": 14,
   "metadata": {},
   "outputs": [
    {
     "name": "stdout",
     "output_type": "stream",
     "text": [
      "查询余额0 \n",
      " 存款1 \n",
      " 取款2 \n",
      " 退出3 \n",
      " 请输入操作功能\n"
     ]
    },
    {
     "name": "stdin",
     "output_type": "stream",
     "text": [
      " 2\n"
     ]
    },
    {
     "name": "stdout",
     "output_type": "stream",
     "text": [
      "请输入取款金额：\n"
     ]
    },
    {
     "name": "stdin",
     "output_type": "stream",
     "text": [
      " 800\n"
     ]
    },
    {
     "name": "stdout",
     "output_type": "stream",
     "text": [
      "取款金额大于当前余额，请重新输入\n"
     ]
    },
    {
     "name": "stdin",
     "output_type": "stream",
     "text": [
      " 18\n"
     ]
    },
    {
     "name": "stdout",
     "output_type": "stream",
     "text": [
      "请输入操作功能\n"
     ]
    },
    {
     "name": "stdin",
     "output_type": "stream",
     "text": [
      " 0\n"
     ]
    },
    {
     "name": "stdout",
     "output_type": "stream",
     "text": [
      "当前余额2\n",
      "请输入操作功能\n"
     ]
    },
    {
     "name": "stdin",
     "output_type": "stream",
     "text": [
      " 4\n"
     ]
    },
    {
     "name": "stdout",
     "output_type": "stream",
     "text": [
      "退出\n"
     ]
    }
   ],
   "source": [
    "#2实现ATM机器\n",
    "balance = 200#初始余额\n",
    "print(\"查询余额0\",'\\n',\"存款1\",\"\\n\",'取款2',\"\\n\",\"退出3\",\"\\n\",\"请输入操作功能\")\n",
    "num1 = int(input())\n",
    "while num1 < 3:#0，1，2功能一直循环下去\n",
    "    if num1 == 0:#执行查询功能\n",
    "        print(\"当前余额{0}\".format(balance))\n",
    "        print(\"请输入操作功能\")\n",
    "        num1 = int(input())\n",
    "    elif num1 == 1:#执行存款功能\n",
    "        print(\"请输入存款金额：\")\n",
    "        num_c = int(input())\n",
    "        balance += num_c\n",
    "        print(\"请输入操作功能\")\n",
    "        num1 = int(input())\n",
    "    elif num1 == 2:#执行取款功能\n",
    "        print(\"请输入取款金额：\")\n",
    "        num_q = int(input())\n",
    "        while num_q > balance:#提示超出余额\n",
    "            print(\"取款金额大于当前余额，请重新输入\")\n",
    "            num_q = int(input())\n",
    "        balance -= num_q\n",
    "        print(\"请输入操作功能\")\n",
    "        num1 = int(input())\n",
    "        \n",
    "print(\"退出\")#结束循环退出\n",
    "    \n",
    "\n",
    "    \n",
    "\n"
   ]
  },
  {
   "cell_type": "markdown",
   "metadata": {},
   "source": [
    "## 3. 词汇表生成及统计\n",
    "\n",
    "下面是一段[文本](http://baijiahao.baidu.com/s?id=1646569900805781240&wfr=spider&for=pc)：\n",
    "\n",
    "> 2019年十月一日上午，庆祝中华人民共和国成立70周年阅兵式在首都北京盛大举行，59个阅兵方阵，580台受阅装备，1.5万人的参阅队伍接受了全国人民的检阅。阅兵装备方队展示的武器装备皆为国产现役主战装备，40%为首次展示。其中近些年来广受全球关注的东风41洲际弹道导弹，巨浪二潜射弹道导弹，东风17高超音速武器系统终于揭幕亮剑，以\"不怒自威\"的形象向世界展示中国捍卫和平的意志与力量。相较于其他首度公开亮相的武器装备，这三款武器多年来传闻不断，备受关注，并因其\"大国基石\"的地位而被公众赋予特殊的期待，这三款武器装备实力究竟如何，又各自承担着怎样的历史\"使命\"呢？本报特约相关领域军事专家，为大家详细解读这三款彰显国威，震撼世界的国之重器。 \n",
    "\n",
    "经过分词后得到以下单词，通过空格分隔。\n",
    "\n",
    "```python\n",
    "text = '2019 年 十月 一日 上午 ， 庆祝 中华人民共和国 成立 70 周年 阅兵式 在 首都北京 盛大举行 ， 59 个 阅兵 方阵 ， 580 台受 阅 装备 ， 1.5 万人 的 参阅 队伍 接受 了 全国 人民 的 检阅 。 阅兵 装备 方队 展示 的 武器装备 皆 为 国产 现役 主战 装备 ， 40% 为 首次 展示 。 其中 近些年来 广受 全球 关注 的 东风 41 洲际 弹道导弹 ， 巨浪 二潜射 弹道导弹 ， 东风 17 高超音速 武器 系统 终于 揭幕 亮剑 ， 以 \" 不怒 自威 \" 的 形象 向 世界 展示 中国 捍卫 和平 的 意志 与 力量 。 相较 于 其他 首度 公开 亮相 的 武器装备 ， 这 三款 武器 多年 来 传闻 不断 ， 备受 关注 ， 并 因 其 \" 大国 基石 \" 的 地位 而 被 公众 赋予 特殊 的 期待 ， 这 三款 武器装备 实力 究竟 如何 ， 又 各自 承担 着 怎样 的 历史 \" 使命 \" 呢 ？ 本报 特约 相关 领域 军事 专家 ， 为 大家 详细 解读 这 三款 彰显 国威 ， 震撼 世界 的 国 之 重器 。'\n",
    "```\n",
    "\n",
    "将文本生成词汇表(单词list)，单词对应ID的dict，以及ID对应单词的dict。\n",
    "将你的程序变成一个盒子，\n",
    "\n",
    "输入就是上面一段文本，\n",
    "\n",
    "盒子内部：首先将文本转换成单词列表，再得到统计的单词表(去重)，然后得到单词ID相互对应的字典。\n",
    "\n",
    "输出：词汇表，word2id, id2word  \n",
    "效果如下：  \n",
    "\n",
    "```python\n",
    "vocab = ['大家', '中国', '捍卫', ...}\n",
    "word2id = {'大家': 0, '中国': 1, '捍卫': 2, ...}\n",
    "id2word = {0: '大家', 1: '中国', 2: '捍卫', ...}\n",
    "```"
   ]
  },
  {
   "cell_type": "code",
   "execution_count": 11,
   "metadata": {},
   "outputs": [
    {
     "name": "stdout",
     "output_type": "stream",
     "text": [
      "{0: '解读', 1: '期待', 2: '洲际', 3: '国威', 4: '40%', 5: '捍卫', 6: '军事', 7: '首都北京', 8: '各自', 9: '其中', 10: '自威', 11: '究竟', 12: '专家', 13: '方队', 14: '历史', 15: '首度', 16: '人民', 17: '万人', 18: '周年', 19: '41', 20: '中国', 21: '力量', 22: '主战', 23: '基石', 24: '使命', 25: '17', 26: '全球', 27: '1.5', 28: '队伍', 29: '检阅', 30: '70', 31: '世界', 32: '地位', 33: '如何', 34: '传闻', 35: '关注', 36: '相较', 37: '台受', 38: '又', 39: '以', 40: '领域', 41: '这', 42: '。', 43: '的', 44: '大国', 45: '不断', 46: '多年', 47: '全国', 48: '在', 49: '高超音速', 50: '二潜射', 51: '近些年来', 52: '不怒', 53: '相关', 54: '其他', 55: '震撼', 56: '向', 57: '阅', 58: '上午', 59: '580', 60: '一日', 61: '年', 62: '巨浪', 63: '2019', 64: '个', 65: '武器装备', 66: '大家', 67: '着', 68: '意志', 69: '国', 70: '三款', 71: '备受', 72: '特约', 73: '现役', 74: '弹道导弹', 75: '亮相', 76: '揭幕', 77: '庆祝', 78: '，', 79: '十月', 80: '而', 81: '为', 82: '形象', 83: '亮剑', 84: '武器', 85: '因', 86: '赋予', 87: '承担', 88: '皆', 89: '广受', 90: '怎样', 91: '和平', 92: '详细', 93: '彰显', 94: '盛大举行', 95: '公开', 96: '来', 97: '与', 98: '并', 99: '其', 100: '于', 101: '阅兵式', 102: '59', 103: '中华人民共和国', 104: '成立', 105: '东风', 106: '本报', 107: '系统', 108: '公众', 109: '了', 110: '被', 111: '特殊', 112: '？', 113: '终于', 114: '之', 115: '首次', 116: '方阵', 117: '重器', 118: '接受', 119: '\"', 120: '参阅', 121: '展示', 122: '呢', 123: '实力', 124: '装备', 125: '阅兵', 126: '国产'}\n"
     ]
    }
   ],
   "source": [
    "text = '2019 年 十月 一日 上午 ， 庆祝 中华人民共和国 成立 70 周年 阅兵式 在 首都北京 盛大举行 ， 59 个 阅兵 方阵 ， 580 台受 阅 装备 ， 1.5 万人 的 参阅 队伍 接受 了 全国 人民 的 检阅 。 阅兵 装备 方队 展示 的 武器装备 皆 为 国产 现役 主战 装备 ， 40% 为 首次 展示 。 其中 近些年来 广受 全球 关注 的 东风 41 洲际 弹道导弹 ， 巨浪 二潜射 弹道导弹 ， 东风 17 高超音速 武器 系统 终于 揭幕 亮剑 ， 以 \" 不怒 自威 \" 的 形象 向 世界 展示 中国 捍卫 和平 的 意志 与 力量 。 相较 于 其他 首度 公开 亮相 的 武器装备 ， 这 三款 武器 多年 来 传闻 不断 ， 备受 关注 ， 并 因 其 \" 大国 基石 \" 的 地位 而 被 公众 赋予 特殊 的 期待 ， 这 三款 武器装备 实力 究竟 如何 ， 又 各自 承担 着 怎样 的 历史 \" 使命 \" 呢 ？ 本报 特约 相关 领域 军事 专家 ， 为 大家 详细 解读 这 三款 彰显 国威 ， 震撼 世界 的 国 之 重器 。'\n",
    "vocab = list(set(text.split()))\n",
    "list_num = range(len(vocab))\n",
    "word2id = dict(zip(vocab,list_num))\n",
    "id2word = dict(zip(list_num,vocab))\n"
   ]
  },
  {
   "cell_type": "markdown",
   "metadata": {},
   "source": [
    "\n",
    "本次的作业就到这里了！祝大家学习进步！\n",
    "![image alt <](http://5b0988e595225.cdn.sohucs.com/images/20190420/1d1070881fd540db817b2a3bdd967f37.gif)"
   ]
  }
 ],
 "metadata": {
  "kernelspec": {
   "display_name": "Python 3",
   "language": "python",
   "name": "python3"
  },
  "language_info": {
   "codemirror_mode": {
    "name": "ipython",
    "version": 3
   },
   "file_extension": ".py",
   "mimetype": "text/x-python",
   "name": "python",
   "nbconvert_exporter": "python",
   "pygments_lexer": "ipython3",
   "version": "3.7.4"
  }
 },
 "nbformat": 4,
 "nbformat_minor": 4
}
