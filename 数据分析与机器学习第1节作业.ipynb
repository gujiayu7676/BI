{
 "cells": [
  {
   "cell_type": "code",
   "execution_count": null,
   "metadata": {},
   "outputs": [],
   "source": [
    "Q1:请简略说明有监督学习和无监督学习有什么区别？\n",
    "有监督学习：训练样本包含数据特征和数据标签。\n",
    "无监督学习：有的训练样本没有数据标签或者有的训练样本数据标签不完整。"
   ]
  },
  {
   "cell_type": "code",
   "execution_count": null,
   "metadata": {},
   "outputs": [],
   "source": [
    "Q2:请搜索资料，列出至少6种机器学习的方法。\n",
    "SVM,LR,K-Means,VAE,GAN,KNN"
   ]
  },
  {
   "cell_type": "code",
   "execution_count": 1,
   "metadata": {},
   "outputs": [
    {
     "ename": "SyntaxError",
     "evalue": "invalid character in identifier (<ipython-input-1-a7b478a42897>, line 1)",
     "output_type": "error",
     "traceback": [
      "\u001b[1;36m  File \u001b[1;32m\"<ipython-input-1-a7b478a42897>\"\u001b[1;36m, line \u001b[1;32m1\u001b[0m\n\u001b[1;33m    Q3：请简略说明，为什么PR曲线能在正负样本极其不均衡的情况下很好地反映出模型真正地分类效果。\u001b[0m\n\u001b[1;37m                                                  ^\u001b[0m\n\u001b[1;31mSyntaxError\u001b[0m\u001b[1;31m:\u001b[0m invalid character in identifier\n"
     ]
    }
   ],
   "source": [
    "Q3：请简略说明，为什么PR曲线能在正负样本极其不均衡的情况下很好地反映出模型真正地分类效果。\n",
    "参考模型对样本判断有四种结果那个表格，ROC中的纵坐标TPR分母TP和FN同属正样本的预测情况那一列，\n",
    "ROC中的横坐标FPR分母FP和TN同属负样本的预测情况那一列，所以即使正样本和负样本的整体数量不均衡，也不会影响到另一列。\n",
    "也就是说，正负样本极其不均衡的情况，ROC曲线也不会产生大的变化，而像PR曲线的纵坐标Precision分母TP和FP就分属正样本和\n",
    "负样本两列，则易受正负样本分布改变的影响。"
   ]
  },
  {
   "cell_type": "code",
   "execution_count": null,
   "metadata": {},
   "outputs": [],
   "source": [
    "Q4:代码作业"
   ]
  },
  {
   "cell_type": "code",
   "execution_count": 7,
   "metadata": {},
   "outputs": [
    {
     "name": "stdout",
     "output_type": "stream",
     "text": [
      "(-2.6, 6.7)属于1类\n",
      "(1.4, 1.6)属于2类\n",
      "(-2.5, 1.2)属于2类\n"
     ]
    }
   ],
   "source": [
    "import numpy as np\n",
    "list1 = [(0.4,5.2),(3.2,1.4),(-1.3,3.2)]\n",
    "list2 = [(1,1),(-2.8,-1.1),(-3,3.1)]\n",
    "def knn_model(x,y):\n",
    "    d1_list,d2_list = [],[]\n",
    "    for p1 in list1:\n",
    "        d1 = pow((p1[0]-x)**2+(p1[1]-y)**2,0.5)\n",
    "        d1_list.append(d1)\n",
    "    d1_min = min(d1_list)#求得1类中最小距离\n",
    "    for p2 in list2:\n",
    "        d2 = pow((p2[0]-x)**2+(p2[1]-y)**2,0.5)\n",
    "        d2_list.append(d2)\n",
    "    d2_min = min(d2_list)#求得2类中最小距离\n",
    "    if d1_min <= d2_min:\n",
    "        print('{0}属于1类'.format((x,y)))\n",
    "    else:\n",
    "        print('{0}属于2类'.format((x,y)))\n",
    "knn_model(-2.6,6.7)\n",
    "knn_model(1.4,1.6)  \n",
    "knn_model(-2.5,1.2)"
   ]
  },
  {
   "cell_type": "code",
   "execution_count": null,
   "metadata": {},
   "outputs": [],
   "source": []
  }
 ],
 "metadata": {
  "kernelspec": {
   "display_name": "Python 3",
   "language": "python",
   "name": "python3"
  },
  "language_info": {
   "codemirror_mode": {
    "name": "ipython",
    "version": 3
   },
   "file_extension": ".py",
   "mimetype": "text/x-python",
   "name": "python",
   "nbconvert_exporter": "python",
   "pygments_lexer": "ipython3",
   "version": "3.7.4"
  }
 },
 "nbformat": 4,
 "nbformat_minor": 4
}
