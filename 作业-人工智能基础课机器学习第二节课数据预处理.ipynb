{
 "cells": [
  {
   "cell_type": "markdown",
   "metadata": {},
   "source": [
    "![](https://img.kaikeba.com/web/kkb_index/img_index_logo.png)"
   ]
  },
  {
   "cell_type": "markdown",
   "metadata": {},
   "source": [
    "# 人工智能基础课机器学习 第二节课作业 股票数据清洗\n",
    "\n",
    "同学们好，本次作业的主要内容为使用pandas进行数据预处理。希望这两天你们已经从Python的课程内容中回过神来了。\n",
    "没有数据的分析是无源之水，能够熟练处理数据是成为合格的数据分析师的基本要求，希望大家在今后多多实战，成为数据大师。\n",
    "\n",
    "本次作业将使用公开标普500的股票数据。\n",
    "https://www.kaggle.com/dgawlik/nyse#prices-split-adjusted.csv\n",
    "\n",
    "作业的形式以问答为主，因为不涉及过长的代码，核心是数据的操作，所以这里没有太多的代码模板可供大家参考。\n",
    "希望大家能从搜索引擎（google/bing）问答社区（stackoverflow）或者[官方文档](https://pandas.pydata.org/pandas-docs/stable/user_guide/index.html)或者我提供的jupyter notebooks 中找到回答问题需要的方法。\n",
    "请时刻牢记数据的增删改查四种原子操作，思考我们的问题可以被如何分解。\n",
    "\n",
    "那么首先，我们要import pandas"
   ]
  },
  {
   "cell_type": "code",
   "execution_count": 1,
   "metadata": {},
   "outputs": [],
   "source": [
    "import pandas as pd"
   ]
  },
  {
   "cell_type": "markdown",
   "metadata": {},
   "source": [
    "# 1. 从fundemantals.csv开始！\n",
    "\n",
    "fundemantals.csv 是这些股票的年报数据\n",
    "\n",
    "请用数据回答以下问题：\n",
    "\n",
    "1. S&P500股票在2015年`net income`的均值是多少？最大值比最小值多多少？（每问10分，共计20分）\n",
    "2. S&P500股票在2016年的固定资产（fixed assets）占总资产(total assets)比例的均值是多少？固定资产占总资产比例最小的股票是的代码（ticker symbol）是什么？（每问10分，共计20分）\n"
   ]
  },
  {
   "cell_type": "code",
   "execution_count": 1,
   "metadata": {},
   "outputs": [
    {
     "name": "stdout",
     "output_type": "stream",
     "text": [
      "1560252997.752809 \n",
      " 76922000000.0\n",
      "0.24428208876549706 \n",
      " LEN\n"
     ]
    }
   ],
   "source": [
    "\n",
    "df = pd.read_csv('fundamentals.csv')\n",
    "df_2015 = df[(df['Period Ending']>='2015-01-01')&(df['Period Ending']<='2015-12-31')]#筛选出15年的数据\n",
    "ans1 = df_2015['Net Income'].mean()\n",
    "ans2 = df_2015['Net Income'].max() - df_2015['Net Income'].min()\n",
    "print(ans1,'\\n',ans2)\n",
    "df_2016 = df[(df['Period Ending']>='2016-01-01')&(df['Period Ending']<='2016-12-31')]#筛选出16年的数据\n",
    "ans3 = (df_2016['Fixed Assets']/df_2016['Total Assets']).mean()\n",
    "row_index = (df_2016['Fixed Assets']/df_2016['Total Assets']).idxmin()#获取比列最小的行索引\n",
    "ans4 = df.iloc[row_index]['Ticker Symbol']\n",
    "print(ans3,'\\n',ans4)"
   ]
  },
  {
   "cell_type": "markdown",
   "metadata": {},
   "source": [
    "1.S&P500股票在2015年net income的均值是1560252997.752809,最大值比小值多76922000000\n",
    "2.S&P500股票在2016年的固定资产（fixed assets）占总资产(total assets)比例的均值是0.24428208876549706 ,\n",
    "固定资产占总资产比例最小的股票是的代码（ticker symbol）是LEN"
   ]
  },
  {
   "cell_type": "markdown",
   "metadata": {},
   "source": [
    "# 2. 加入securities.csv~\n",
    "\n",
    "securities.csv包含了这些股票的基本信息\n",
    "\n",
    "1. 请列举出各个sector中的加入时间最早的股票名称（10分）\n",
    "2. 请列举出每一个州中加入时间最晚的股票名称（10分）\n"
   ]
  },
  {
   "cell_type": "code",
   "execution_count": 9,
   "metadata": {},
   "outputs": [
    {
     "name": "stdout",
     "output_type": "stream",
     "text": [
      "1.各个sector中的加入时间最早的股票名称如下： \n",
      "                                                     Security Date first added\n",
      "GICS Sector                                                                  \n",
      "Consumer Discretionary      296             McDonald's Corp.       1970-06-30\n",
      "Consumer Staples            433           The Clorox Company       1969-03-31\n",
      "Energy                      399            Schlumberger Ltd.       1965-03-31\n",
      "Financials                  255         JPMorgan Chase & Co.       1975-06-30\n",
      "Health Care                 1            Abbott Laboratories       1964-03-31\n",
      "Industrials                 230         Honeywell Int'l Inc.       1964-03-31\n",
      "Information Technology      233                      HP Inc.       1974-12-31\n",
      "Materials                   404             Sherwin-Williams       1964-06-30\n",
      "Real Estate                 56   AvalonBay Communities, Inc.       2007-01-10\n",
      "Telecommunications Services 51                      AT&T Inc       1983-11-30\n",
      "Utilities                   152                  Duke Energy       1976-06-30 \n",
      "\n",
      "2.每一个州中加入时间最晚的股票名称如下： \n",
      "                                             Security Date first added\n",
      "state                                                                \n",
      " California     4                Activision Blizzard       2015-08-31\n",
      " Colorado       99            Chipotle Mexican Grill       2011-04-28\n",
      " Connecticut    96            Charter Communications       2016-09-08\n",
      " Georgia        5                  Acuity Brands Inc       2016-05-03\n",
      " Illinois       49         Arthur J. Gallagher & Co.       2016-05-31\n",
      " Ireland        18                          Allegion       2013-12-02\n",
      " Kentucky       77          Brown-Forman Corporation       1982-10-31\n",
      " Louisiana      16                    Albemarle Corp       2016-07-01\n",
      " Massachusetts  10     Affiliated Managers Group Inc       2014-07-01\n",
      " Michigan       72                        BorgWarner       2011-12-19\n",
      " Missouri       90               Centene Corporation       2016-03-30\n",
      " Nebraska       66                Berkshire Hathaway       2010-02-16\n",
      " New Jersey     33  American Water Works Company Inc       2016-03-04\n",
      " New York       69                         BlackRock       2011-04-04\n",
      " North Carolina 60              Bank of America Corp       1976-06-30\n",
      " Pennsylvania   36                        AMETEK Inc       2013-09-23\n",
      " Texas          28           American Airlines Group       2015-03-23\n",
      " Virginia       7                 Advance Auto Parts       2015-07-09\n",
      " Virginia[3]    56       AvalonBay Communities, Inc.       2007-01-10\n",
      " Washington     15              Alaska Air Group Inc       2016-05-13\n",
      " Wisconsin      21               Alliant Energy Corp       2016-07-01\n"
     ]
    }
   ],
   "source": [
    "def first_date(df,column='Date first added'):#返回加入时间最早的股票信息\n",
    "    return df.sort_values(by=column)[0:1]\n",
    "def last_date(df,column='Date first added'):#返回加入时间最晚的股票信息\n",
    "    return df.sort_values(by=column)[-1:]\n",
    "df_all = pd.read_csv('securities.csv')\n",
    "for i,idata in enumerate(df_all['Address of Headquarters'][0:100]):#把Address of Headquarters这一列分裂成两列city 和 state\n",
    "    df_all.loc[i,'city'] = idata.split(',')[0]\n",
    "    df_all.loc[i,'state'] = idata.split(',')[1]\n",
    "df1 = df_all.dropna(axis = 0, how= 'any',subset =['Date first added'])#去掉Date first added该列为空的行\n",
    "df2 = df1.groupby(['GICS Sector']).apply(first_date)[['Security','Date first added']]\n",
    "print('1.各个sector中的加入时间最早的股票名称如下：','\\n',df2,'\\n')\n",
    "df3 = df1.groupby(['state']).apply(last_date)[['Security','Date first added']]\n",
    "print('2.每一个州中加入时间最晚的股票名称如下：','\\n',df3)\n"
   ]
  },
  {
   "cell_type": "markdown",
   "metadata": {},
   "source": [
    "# 3. merge!\n",
    "\n",
    "现在你需要同时处理来自两个表中的信息了\n",
    "\n",
    "1. 请思考，合并两个表的信息的时候，我们应该用什么样的准则对其它们（10分）\n",
    "2. 请列举每个sector在2013-2016年累计Research&Development的总投入（10分）\n",
    "3. 请列举出每个sector中，在2013-2016年累计Research&development投入最大的3家公司的名称以及投入的数值（20分）"
   ]
  },
  {
   "cell_type": "markdown",
   "metadata": {},
   "source": [
    "1.请思考，合并两个表的信息的时候，我们应该用什么样的准则对其它们：\n",
    "两个表有共同列Ticker symbol,但fundamentals中的Ticker symbol列股票代码是重复的，有更多行数，所以我认为应该用 how = left规则来合并。"
   ]
  },
  {
   "cell_type": "code",
   "execution_count": 32,
   "metadata": {},
   "outputs": [
    {
     "name": "stdout",
     "output_type": "stream",
     "text": [
      "2.每个sector在2013-2016年累计Research&Development的总投入: \n",
      " GICS Sector\n",
      "Consumer Discretionary         1.860178e+09\n",
      "Consumer Staples               7.150872e+09\n",
      "Energy                         2.076513e+09\n",
      "Financials                     2.401300e+08\n",
      "Health Care                    1.688513e+11\n",
      "Industrials                    5.533400e+10\n",
      "Information Technology         3.158830e+11\n",
      "Materials                      2.061621e+10\n",
      "Real Estate                    1.162100e+08\n",
      "Telecommunications Services    0.000000e+00\n",
      "Utilities                      0.000000e+00\n",
      "Name: Research and Development, dtype: float64 \n",
      "\n",
      "3.每个sector中，在2013-2016年累计Research&development投入最大的3家公司的名称以及投入的数值: \n",
      "                             Ticker Symbol              Security  \\\n",
      "GICS Sector                                                       \n",
      "Consumer Discretionary 717           GRMN           Garmin Ltd.   \n",
      "                       718           GRMN           Garmin Ltd.   \n",
      "                       719           GRMN           Garmin Ltd.   \n",
      "Consumer Staples       1265            PG      Procter & Gamble   \n",
      "                       1266            PG      Procter & Gamble   \n",
      "                       1267            PG      Procter & Gamble   \n",
      "Energy                 220            BHI      Baker Hughes Inc   \n",
      "                       218            BHI      Baker Hughes Inc   \n",
      "                       219            BHI      Baker Hughes Inc   \n",
      "Financials             1616           USB          U.S. Bancorp   \n",
      "                       1615           USB          U.S. Bancorp   \n",
      "                       1614           USB          U.S. Bancorp   \n",
      "Health Care            1100           MRK           Merck & Co.   \n",
      "                       1259           PFE           Pfizer Inc.   \n",
      "                       1258           PFE           Pfizer Inc.   \n",
      "Industrials            186             BA        Boeing Company   \n",
      "                       188             BA        Boeing Company   \n",
      "                       189             BA        Boeing Company   \n",
      "Information Technology 1109          MSFT       Microsoft Corp.   \n",
      "                       841           INTC           Intel Corp.   \n",
      "                       842           INTC           Intel Corp.   \n",
      "Materials              438             DD        Du Pont (E.I.)   \n",
      "                       437             DD        Du Pont (E.I.)   \n",
      "                       436             DD        Du Pont (E.I.)   \n",
      "Real Estate            1719            WY    Weyerhaeuser Corp.   \n",
      "                       1646           VNO  Vornado Realty Trust   \n",
      "                       1718            WY    Weyerhaeuser Corp.   \n",
      "\n",
      "                             Research and Development  \n",
      "GICS Sector                                            \n",
      "Consumer Discretionary 717               3.649230e+08  \n",
      "                       718               3.951210e+08  \n",
      "                       719               4.270430e+08  \n",
      "Consumer Staples       1265              1.271353e+09  \n",
      "                       1266              1.620577e+09  \n",
      "                       1267              2.052295e+09  \n",
      "Energy                 220               4.660000e+08  \n",
      "                       218               5.560000e+08  \n",
      "                       219               6.130000e+08  \n",
      "Financials             1616              6.020000e+07  \n",
      "                       1615              6.180000e+07  \n",
      "                       1614              6.263000e+07  \n",
      "Health Care            1100              7.503000e+09  \n",
      "                       1259              7.690000e+09  \n",
      "                       1258              8.393000e+09  \n",
      "Industrials            186               3.071000e+09  \n",
      "                       188               3.331000e+09  \n",
      "                       189               4.627000e+09  \n",
      "Information Technology 1109              1.204600e+10  \n",
      "                       841               1.212800e+10  \n",
      "                       842               1.274000e+10  \n",
      "Materials              438               1.898000e+09  \n",
      "                       437               1.958000e+09  \n",
      "                       436               2.037000e+09  \n",
      "Real Estate            1719              2.700000e+07  \n",
      "                       1646              3.221000e+07  \n",
      "                       1718              3.300000e+07   \n",
      "\n"
     ]
    }
   ],
   "source": [
    "df_f = pd.read_csv('fundamentals.csv')\n",
    "df_s = pd.read_csv('securities.csv')\n",
    "df_s.columns = ['Ticker Symbol','Security', 'SEC Filings', 'GICS Sector',\n",
    "       'GICS Sub Industry', 'Address of Headquarters', 'Date First Added',\n",
    "       'CIK']#把列名都修改成单词首字母大写，这样两个表才有共同的列Ticker Symbol，也为了之后都按照首字母大写的列名方式调用，这样调用方便\n",
    "#print(df_f.columns,'\\n',df_s.columns)\n",
    "df = pd.merge(df_f,df_s,how = 'left')\n",
    "df1 = df[(df['Period Ending']>='2013-01-01') & (df['Period Ending']<='2016-12-31')]#筛选出13-16年的数据\n",
    "df2 = df1['Research and Development'].groupby(df1['GICS Sector']).sum()\n",
    "print('2.每个sector在2013-2016年累计Research&Development的总投入:','\\n',df2,'\\n')\n",
    "def largest3(df,column='Research and Development'):#返回R&D最大3家公司的信息\n",
    "    return df.sort_values(by=column)[-3:]\n",
    "df3 = df1[df1['Research and Development']>0]#去除掉R&D为0的公司\n",
    "df4 = df3.groupby(['GICS Sector']).apply(largest3)[['Ticker Symbol','Security','Research and Development']]\n",
    "print('3.每个sector中，在2013-2016年累计Research&development投入最大的3家公司的名称以及投入的数值:','\\n',df4,'\\n')"
   ]
  },
  {
   "cell_type": "markdown",
   "metadata": {},
   "source": [
    "# 4. 现在让我们来看看更加复杂的数据\n",
    "\n",
    "请导入price.csv，然后结合你的聪明才智回答以下问题（附加题，40分）\n",
    "\n",
    "假设你是某基金公司的老板，现在对于每只股票，你都专门安排了一位负责它的交易员。公司规定每一位交易员手中的资金要么全部买入要么全部卖出（空仓，转化为现金）。假设2016年每一位交易员手中都有10000美元，假设他们都能够看到2016年全年的数据，假设他们都能抓住每一次机会，那么请问2016年底时，赚钱最多的股票是哪一只，赚了多少钱？"
   ]
  },
  {
   "cell_type": "code",
   "execution_count": 16,
   "metadata": {},
   "outputs": [
    {
     "name": "stdout",
     "output_type": "stream",
     "text": [
      "symbol\n",
      "FSLR    76.104\n",
      "CHK     75.773\n",
      "AAL     72.285\n",
      "MU      68.066\n",
      "NFLX    67.205\n",
      "         ...  \n",
      "HPE      9.602\n",
      "CSRA     8.673\n",
      "KHC      7.355\n",
      "WLTW     5.134\n",
      "FTV      2.716\n",
      "Name: hl_rate, Length: 501, dtype: float64 \n",
      "\n",
      "赚钱最多的股票是FSLR，赚了761040.0美元\n"
     ]
    }
   ],
   "source": [
    "#计算思路如下：首先计算出每只股票每天高低价收益率，然后把每只股票每天的收益率汇总求和，最大的即为赚钱最多的股票，\n",
    "#这个方法是按照单利计算，也就是说每笔投资只投入本金10000美元，不投入赚取的利润。\n",
    "df = pd.read_csv('prices-split-adjusted.csv')\n",
    "df['hl_rate'] = round((df['high']/df['low'] -1),3)#增加一列hl_rate,最高最低价的收益率\n",
    "s1 = df.groupby(['symbol'])['hl_rate'].sum().sort_values(ascending = False)\n",
    "profit = round(s1.values[0] * 10000,1)\n",
    "print(s1,'\\n')\n",
    "print('赚钱最多的股票是{0}，赚了{1}美元'.format(s1.index[0],profit))\n"
   ]
  },
  {
   "cell_type": "code",
   "execution_count": null,
   "metadata": {},
   "outputs": [],
   "source": []
  }
 ],
 "metadata": {
  "kernelspec": {
   "display_name": "Python 3",
   "language": "python",
   "name": "python3"
  },
  "language_info": {
   "codemirror_mode": {
    "name": "ipython",
    "version": 3
   },
   "file_extension": ".py",
   "mimetype": "text/x-python",
   "name": "python",
   "nbconvert_exporter": "python",
   "pygments_lexer": "ipython3",
   "version": "3.7.4"
  }
 },
 "nbformat": 4,
 "nbformat_minor": 4
}
